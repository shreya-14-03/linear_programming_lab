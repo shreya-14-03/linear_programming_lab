{
  "nbformat": 4,
  "nbformat_minor": 0,
  "metadata": {
    "colab": {
      "name": "25_Aug_Exp2,3_Q3_Shreya_R103219030.ipynb",
      "provenance": [],
      "collapsed_sections": [],
      "authorship_tag": "ABX9TyNfEpwaEXZK9Nwq5ULvoxuG",
      "include_colab_link": true
    },
    "kernelspec": {
      "name": "python3",
      "display_name": "Python 3"
    },
    "language_info": {
      "name": "python"
    }
  },
  "cells": [
    {
      "cell_type": "markdown",
      "metadata": {
        "id": "view-in-github",
        "colab_type": "text"
      },
      "source": [
        "<a href=\"https://colab.research.google.com/github/shreya-14-03/linear_programming_lab/blob/main/25_Aug_Exp2%2C3_Q3_Shreya_R103219030.ipynb\" target=\"_parent\"><img src=\"https://colab.research.google.com/assets/colab-badge.svg\" alt=\"Open In Colab\"/></a>"
      ]
    },
    {
      "cell_type": "markdown",
      "metadata": {
        "id": "6Sp34-fmtauz"
      },
      "source": [
        "3)\tA company manufactures two products A and B. These products are processed in the same machine. It takes 10 minutes to process one unit of product A and 2 minutes for each unit of product B and the machine operates for a maximum of 35 hours in a week. Product A requires 1 kg and B 0.5 kg of raw material per unit, the supply of which is 600 kg per week. Market constraint on product B is known to be minimum of 800 units every week. Product A costs Rs. 5 per unit and sold at Rs. 10. Product B costs Rs. 6 per unit and can be sold in the market at a unit price of Rs. 8. Determine the number of units of A and B per week to maximize the profit."
      ]
    },
    {
      "cell_type": "code",
      "metadata": {
        "id": "-pLD0DYAtbf_"
      },
      "source": [
        "%%capture\n",
        "!pip install pulp "
      ],
      "execution_count": null,
      "outputs": []
    },
    {
      "cell_type": "code",
      "metadata": {
        "id": "xbqUYwCethEt"
      },
      "source": [
        "from pulp import *"
      ],
      "execution_count": null,
      "outputs": []
    },
    {
      "cell_type": "code",
      "metadata": {
        "id": "PH4-RPqJtjiO"
      },
      "source": [
        "my_lp_problem = LpProblem(\"MyLPProblem\", LpMaximize)"
      ],
      "execution_count": null,
      "outputs": []
    },
    {
      "cell_type": "markdown",
      "metadata": {
        "id": "y1FLO_Z25jv2"
      },
      "source": [
        "x1:units of product A\n",
        "x2:units of product B"
      ]
    },
    {
      "cell_type": "code",
      "metadata": {
        "id": "oB0aHdO9tmDm"
      },
      "source": [
        "x1 = LpVariable( 'x1', lowBound=0, cat='Continuous')\n",
        "x2 = LpVariable( 'x2', lowBound=0, cat='Continuous')"
      ],
      "execution_count": null,
      "outputs": []
    },
    {
      "cell_type": "code",
      "metadata": {
        "id": "gE-EK-ZCtruh"
      },
      "source": [
        "# Objective function\n",
        "my_lp_problem += 5 * x1 + 2 * x2,\"Z\"\n",
        "# Constraints\n",
        "my_lp_problem += 10 * x1 + 2 * x2 <= 2100\n",
        "my_lp_problem += x1 + 0.5 * x2 <= 600\n",
        "my_lp_problem += x2 >= 800"
      ],
      "execution_count": null,
      "outputs": []
    },
    {
      "cell_type": "code",
      "metadata": {
        "colab": {
          "base_uri": "https://localhost:8080/"
        },
        "id": "oFgUUp3guzkH",
        "outputId": "724bab3a-d336-4409-8728-7f3ee11af931"
      },
      "source": [
        "my_lp_problem"
      ],
      "execution_count": null,
      "outputs": [
        {
          "output_type": "execute_result",
          "data": {
            "text/plain": [
              "MyLPProblem:\n",
              "MAXIMIZE\n",
              "5*x1 + 2*x2 + 0\n",
              "SUBJECT TO\n",
              "_C1: 10 x1 + 2 x2 <= 2100\n",
              "\n",
              "_C2: x1 + 0.5 x2 <= 600\n",
              "\n",
              "_C3: x2 >= 800\n",
              "\n",
              "VARIABLES\n",
              "x1 Continuous\n",
              "x2 Continuous"
            ]
          },
          "metadata": {},
          "execution_count": 7
        }
      ]
    },
    {
      "cell_type": "code",
      "metadata": {
        "colab": {
          "base_uri": "https://localhost:8080/",
          "height": 35
        },
        "id": "cLqAnznYu3dy",
        "outputId": "993dfc6b-cd91-4489-f3b9-751b2a414ae2"
      },
      "source": [
        "my_lp_problem.solve()\n",
        "LpStatus[my_lp_problem.status]"
      ],
      "execution_count": null,
      "outputs": [
        {
          "output_type": "execute_result",
          "data": {
            "application/vnd.google.colaboratory.intrinsic+json": {
              "type": "string"
            },
            "text/plain": [
              "'Optimal'"
            ]
          },
          "metadata": {},
          "execution_count": 8
        }
      ]
    },
    {
      "cell_type": "code",
      "metadata": {
        "colab": {
          "base_uri": "https://localhost:8080/"
        },
        "id": "C9pEVvm2u8PS",
        "outputId": "0467e17c-255e-4511-94f7-e65ead6fdb3e"
      },
      "source": [
        "for variable in my_lp_problem.variables():\n",
        "    print (\"{} = {}\".format(variable.name, variable.varValue))"
      ],
      "execution_count": null,
      "outputs": [
        {
          "output_type": "stream",
          "name": "stdout",
          "text": [
            "x1 = 0.0\n",
            "x2 = 1050.0\n"
          ]
        }
      ]
    },
    {
      "cell_type": "code",
      "metadata": {
        "colab": {
          "base_uri": "https://localhost:8080/"
        },
        "id": "OJZMqnfPu-5x",
        "outputId": "49008c03-f283-4eee-f153-6c1c2b03028e"
      },
      "source": [
        "value(my_lp_problem.objective)"
      ],
      "execution_count": null,
      "outputs": [
        {
          "output_type": "execute_result",
          "data": {
            "text/plain": [
              "2100.0"
            ]
          },
          "metadata": {},
          "execution_count": 10
        }
      ]
    },
    {
      "cell_type": "code",
      "metadata": {
        "id": "O74_hc2BvB4i"
      },
      "source": [
        ""
      ],
      "execution_count": null,
      "outputs": []
    }
  ]
}