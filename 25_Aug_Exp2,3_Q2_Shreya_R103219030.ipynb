{
  "nbformat": 4,
  "nbformat_minor": 0,
  "metadata": {
    "colab": {
      "name": "25_Aug_Exp2,3_Q2_Shreya_R103219030.ipynb",
      "provenance": [],
      "collapsed_sections": [],
      "authorship_tag": "ABX9TyNHj4OAC72U4Mqeb/OT5Raj",
      "include_colab_link": true
    },
    "kernelspec": {
      "name": "python3",
      "display_name": "Python 3"
    },
    "language_info": {
      "name": "python"
    }
  },
  "cells": [
    {
      "cell_type": "markdown",
      "metadata": {
        "id": "view-in-github",
        "colab_type": "text"
      },
      "source": [
        "<a href=\"https://colab.research.google.com/github/shreya-14-03/linear_programming_lab/blob/main/25_Aug_Exp2%2C3_Q2_Shreya_R103219030.ipynb\" target=\"_parent\"><img src=\"https://colab.research.google.com/assets/colab-badge.svg\" alt=\"Open In Colab\"/></a>"
      ]
    },
    {
      "cell_type": "markdown",
      "metadata": {
        "id": "JxHPOPtjrs06"
      },
      "source": [
        "2)\tThe Agricultural research Institute suggested to a farmer to spread out at least 4800 kg of a special phosphate fertilizer and not less than 7200 kg of a special nitrogen fertilizer to raise productivity of crops in his fields. There are two sources for obtaining these − mixtures A and B. Both of these are available in bags weighing 100 kg each and they cost Rs. 40 and Rs. 24 respectively. Mixture A contains phosphate and nitrogen equivalent of 20 kg and 80 kg respectively, while mixture B contains these ingredients equivalent of 50 kg each.\n",
        "Write as a linear programming problem to determine how many bags of each type the farmer should buy in order to obtain the required fertilizer at a minimum cost.\n"
      ]
    },
    {
      "cell_type": "code",
      "metadata": {
        "id": "94e63n9Drt5x"
      },
      "source": [
        "%%capture\n",
        "!pip install pulp "
      ],
      "execution_count": null,
      "outputs": []
    },
    {
      "cell_type": "code",
      "metadata": {
        "id": "JItEgDNvsMCZ"
      },
      "source": [
        "from pulp import *"
      ],
      "execution_count": null,
      "outputs": []
    },
    {
      "cell_type": "code",
      "metadata": {
        "id": "Eb0E49xEsOiv"
      },
      "source": [
        "my_lp_problem = LpProblem(\"MyLPProblem\", LpMinimize)"
      ],
      "execution_count": null,
      "outputs": []
    },
    {
      "cell_type": "markdown",
      "metadata": {
        "id": "EpL_zWEJ5N5c"
      },
      "source": [
        "x1:bags of mixture A\n",
        "x2:bags of mixture B"
      ]
    },
    {
      "cell_type": "code",
      "metadata": {
        "id": "oU5P_LL_sVC5"
      },
      "source": [
        "x1 = LpVariable( 'x1', lowBound=0, cat='Continuous')\n",
        "x2 = LpVariable( 'x2', lowBound=0, cat='Continuous')"
      ],
      "execution_count": null,
      "outputs": []
    },
    {
      "cell_type": "code",
      "metadata": {
        "id": "1WAf-4-bsaTP"
      },
      "source": [
        "# Objective function\n",
        "my_lp_problem += 40 * x1 + 24 * x2,\"Z\"\n",
        "# Constraints\n",
        "my_lp_problem += 20 * x1 + 50 * x2 >= 4800\n",
        "my_lp_problem += 80 * x1 + 50 * x2 >= 7200"
      ],
      "execution_count": null,
      "outputs": []
    },
    {
      "cell_type": "code",
      "metadata": {
        "colab": {
          "base_uri": "https://localhost:8080/"
        },
        "id": "FFRcf7iGswda",
        "outputId": "96725945-2c3a-4ffb-a0b1-eb2a68277351"
      },
      "source": [
        "my_lp_problem"
      ],
      "execution_count": null,
      "outputs": [
        {
          "output_type": "execute_result",
          "data": {
            "text/plain": [
              "MyLPProblem:\n",
              "MINIMIZE\n",
              "40*x1 + 24*x2 + 0\n",
              "SUBJECT TO\n",
              "_C1: 20 x1 + 50 x2 >= 4800\n",
              "\n",
              "_C2: 80 x1 + 50 x2 >= 7200\n",
              "\n",
              "VARIABLES\n",
              "x1 Continuous\n",
              "x2 Continuous"
            ]
          },
          "metadata": {},
          "execution_count": 8
        }
      ]
    },
    {
      "cell_type": "code",
      "metadata": {
        "colab": {
          "base_uri": "https://localhost:8080/",
          "height": 35
        },
        "id": "l0KfMpmZs0QJ",
        "outputId": "e99df513-04d7-4340-a501-37433c5f58fd"
      },
      "source": [
        "my_lp_problem.solve()\n",
        "LpStatus[my_lp_problem.status]"
      ],
      "execution_count": null,
      "outputs": [
        {
          "output_type": "execute_result",
          "data": {
            "application/vnd.google.colaboratory.intrinsic+json": {
              "type": "string"
            },
            "text/plain": [
              "'Optimal'"
            ]
          },
          "metadata": {},
          "execution_count": 9
        }
      ]
    },
    {
      "cell_type": "code",
      "metadata": {
        "colab": {
          "base_uri": "https://localhost:8080/"
        },
        "id": "ld_4P8fHs4U-",
        "outputId": "0d8a9a58-e9b1-4581-82aa-0bc6f10c319f"
      },
      "source": [
        "for variable in my_lp_problem.variables():\n",
        "    print (\"{} = {}\".format(variable.name, variable.varValue))"
      ],
      "execution_count": null,
      "outputs": [
        {
          "output_type": "stream",
          "name": "stdout",
          "text": [
            "x1 = 0.0\n",
            "x2 = 144.0\n"
          ]
        }
      ]
    },
    {
      "cell_type": "code",
      "metadata": {
        "colab": {
          "base_uri": "https://localhost:8080/"
        },
        "id": "gPDJvS_Ps7yJ",
        "outputId": "8b7342e5-015b-4870-b1b2-69758808f3a2"
      },
      "source": [
        "value(my_lp_problem.objective)"
      ],
      "execution_count": null,
      "outputs": [
        {
          "output_type": "execute_result",
          "data": {
            "text/plain": [
              "3456.0"
            ]
          },
          "metadata": {},
          "execution_count": 11
        }
      ]
    },
    {
      "cell_type": "code",
      "metadata": {
        "id": "50DhJzcns_I7"
      },
      "source": [
        ""
      ],
      "execution_count": null,
      "outputs": []
    }
  ]
}