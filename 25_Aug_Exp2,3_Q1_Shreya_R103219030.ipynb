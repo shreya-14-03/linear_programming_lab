{
  "nbformat": 4,
  "nbformat_minor": 0,
  "metadata": {
    "colab": {
      "name": "25_Aug_Exp2,3_Q1_Shreya_R103219030.ipynb",
      "provenance": [],
      "collapsed_sections": [],
      "authorship_tag": "ABX9TyP5VBGcUB6TmJA6Ci3U1pBD",
      "include_colab_link": true
    },
    "kernelspec": {
      "name": "python3",
      "display_name": "Python 3"
    },
    "language_info": {
      "name": "python"
    }
  },
  "cells": [
    {
      "cell_type": "markdown",
      "metadata": {
        "id": "view-in-github",
        "colab_type": "text"
      },
      "source": [
        "<a href=\"https://colab.research.google.com/github/shreya-14-03/linear_programming_lab/blob/main/25_Aug_Exp2%2C3_Q1_Shreya_R103219030.ipynb\" target=\"_parent\"><img src=\"https://colab.research.google.com/assets/colab-badge.svg\" alt=\"Open In Colab\"/></a>"
      ]
    },
    {
      "cell_type": "markdown",
      "metadata": {
        "id": "l-cRRBiSbK6_"
      },
      "source": [
        "1)\tA firm is engaged in producing two products, A and B. Each unit of product A requires 2 kg of raw material and 4 labour hours for processing, whereas each unit of product B requires 3 kg of raw material and 3 hours of labour, of the same type. Every week, the firm has an availability of 60 kg of raw material and 96 labour hours. One unit of product A sold yields Rs. 40 and one unit of product B sold gives Rs. 35 as profit. Formulate this problem as a linear programming problem to determine as to how many units of each of the products should be produced per week so that the firm can earn the maximum profit."
      ]
    },
    {
      "cell_type": "code",
      "metadata": {
        "id": "mXOQSrgwbMej"
      },
      "source": [
        "%%capture\n",
        "!pip install pulp "
      ],
      "execution_count": null,
      "outputs": []
    },
    {
      "cell_type": "code",
      "metadata": {
        "id": "dJNZQfZbbrxV"
      },
      "source": [
        "from pulp import *"
      ],
      "execution_count": null,
      "outputs": []
    },
    {
      "cell_type": "code",
      "metadata": {
        "id": "Lx5powxDbuO0"
      },
      "source": [
        "my_lp_problem = LpProblem(\"MyLPProblem\", LpMaximize)"
      ],
      "execution_count": null,
      "outputs": []
    },
    {
      "cell_type": "markdown",
      "metadata": {
        "id": "JTMakWuY4xGY"
      },
      "source": [
        "x1:units of product A\n",
        "x2:units of product B"
      ]
    },
    {
      "cell_type": "code",
      "metadata": {
        "id": "SCX4zIBPbxOW"
      },
      "source": [
        "x1 = LpVariable( 'x1', lowBound=0, cat='Continuous')\n",
        "x2 = LpVariable( 'x2', lowBound=0, cat='Continuous')"
      ],
      "execution_count": null,
      "outputs": []
    },
    {
      "cell_type": "code",
      "metadata": {
        "id": "TnGsHNaAqX0n"
      },
      "source": [
        "# Objective function\n",
        "my_lp_problem += 40 * x1 + 35 * x2,\"Z\"\n",
        "# Constraints\n",
        "my_lp_problem += 2 * x1 + 3 * x2 <= 60\n",
        "my_lp_problem += 4 * x1 + 3 * x2 <= 96"
      ],
      "execution_count": null,
      "outputs": []
    },
    {
      "cell_type": "code",
      "metadata": {
        "colab": {
          "base_uri": "https://localhost:8080/"
        },
        "id": "eSb-t4r_qyq7",
        "outputId": "5d525329-b1c0-41dc-85a8-18f8e63e0c18"
      },
      "source": [
        "my_lp_problem"
      ],
      "execution_count": null,
      "outputs": [
        {
          "output_type": "execute_result",
          "data": {
            "text/plain": [
              "MyLPProblem:\n",
              "MAXIMIZE\n",
              "40*x1 + 35*x2 + 0\n",
              "SUBJECT TO\n",
              "_C1: 2 x1 + 3 x2 <= 60\n",
              "\n",
              "_C2: 4 x1 + 3 x2 <= 96\n",
              "\n",
              "VARIABLES\n",
              "x1 Continuous\n",
              "x2 Continuous"
            ]
          },
          "metadata": {},
          "execution_count": 6
        }
      ]
    },
    {
      "cell_type": "code",
      "metadata": {
        "colab": {
          "base_uri": "https://localhost:8080/",
          "height": 35
        },
        "id": "pVtMtdmdq2oI",
        "outputId": "38f04e7f-4d69-4c78-9c04-b5235e8e9ce3"
      },
      "source": [
        "my_lp_problem.solve()\n",
        "LpStatus[my_lp_problem.status]"
      ],
      "execution_count": null,
      "outputs": [
        {
          "output_type": "execute_result",
          "data": {
            "application/vnd.google.colaboratory.intrinsic+json": {
              "type": "string"
            },
            "text/plain": [
              "'Optimal'"
            ]
          },
          "metadata": {},
          "execution_count": 7
        }
      ]
    },
    {
      "cell_type": "code",
      "metadata": {
        "colab": {
          "base_uri": "https://localhost:8080/"
        },
        "id": "UQMSuqnrq6z-",
        "outputId": "968cb627-66cf-4100-f6cc-015767381305"
      },
      "source": [
        "for variable in my_lp_problem.variables():\n",
        "    print (\"{} = {}\".format(variable.name, variable.varValue))"
      ],
      "execution_count": null,
      "outputs": [
        {
          "output_type": "stream",
          "name": "stdout",
          "text": [
            "x1 = 18.0\n",
            "x2 = 8.0\n"
          ]
        }
      ]
    },
    {
      "cell_type": "code",
      "metadata": {
        "colab": {
          "base_uri": "https://localhost:8080/"
        },
        "id": "3a_wM6Sqq-IP",
        "outputId": "405a6b52-e7be-430c-a0d0-132a096a6291"
      },
      "source": [
        "value(my_lp_problem.objective)"
      ],
      "execution_count": null,
      "outputs": [
        {
          "output_type": "execute_result",
          "data": {
            "text/plain": [
              "1000.0"
            ]
          },
          "metadata": {},
          "execution_count": 9
        }
      ]
    },
    {
      "cell_type": "code",
      "metadata": {
        "id": "wr9mE4PDrEES"
      },
      "source": [
        ""
      ],
      "execution_count": null,
      "outputs": []
    }
  ]
}