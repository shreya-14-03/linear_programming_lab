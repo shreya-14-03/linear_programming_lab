{
  "nbformat": 4,
  "nbformat_minor": 0,
  "metadata": {
    "colab": {
      "name": "Exp10_Shreya_R103219030.ipynb",
      "provenance": [],
      "authorship_tag": "ABX9TyMbLYgQ9+VCTNNhKuYHgwTf",
      "include_colab_link": true
    },
    "kernelspec": {
      "name": "python3",
      "display_name": "Python 3"
    },
    "language_info": {
      "name": "python"
    }
  },
  "cells": [
    {
      "cell_type": "markdown",
      "metadata": {
        "id": "view-in-github",
        "colab_type": "text"
      },
      "source": [
        "<a href=\"https://colab.research.google.com/github/shreya-14-03/linear_programming_lab/blob/main/Exp10_Shreya_R103219030.ipynb\" target=\"_parent\"><img src=\"https://colab.research.google.com/assets/colab-badge.svg\" alt=\"Open In Colab\"/></a>"
      ]
    },
    {
      "cell_type": "code",
      "execution_count": 1,
      "metadata": {
        "id": "1PA_WLanomSk"
      },
      "outputs": [],
      "source": [
        "from collections import defaultdict"
      ]
    },
    {
      "cell_type": "markdown",
      "source": [
        "Q1:Three refineries with daily capacities of 6, 5, and 8 million gallons, respectively, supply three distribution areas with daily demands of 4, 8, and 7 million gallons, respectively. Gasoline is transported to the three distribution areas through a network of pipelines. The transportation cost is 10 cents per 1000 gallons per pipeline mile. Given Table gives the mileage between the refineries and the distribution areas. Determine the optimum shipping schedule in the network."
      ],
      "metadata": {
        "id": "lOZVZsQ_oyxL"
      }
    },
    {
      "cell_type": "code",
      "source": [
        "costs  = {'W': {'A': 120, 'B': 180, 'C': 1000},\n",
        "          'X': {'A': 300, 'B': 100, 'C': 80},\n",
        "          'Y': {'A': 200, 'B': 250, 'C': 120}}\n",
        "demand = {'A': 4, 'B': 8, 'C': 7}\n",
        "cols = sorted(demand)\n",
        "supply = {'W': 6, 'X': 5, 'Y': 8}\n",
        "res = dict((k, defaultdict(int)) for k in costs)\n",
        "g = {}\n",
        "for x in supply:\n",
        "    g[x] = sorted(costs[x], key=lambda g: costs[x][g])\n",
        "for x in demand:\n",
        "    g[x] = sorted(costs, key=lambda g: costs[g][x])\n",
        "\n",
        "while g:\n",
        "    d = {}\n",
        "    for x in demand:\n",
        "        d[x] = (costs[g[x][1]][x] - costs[g[x][0]][x]) if len(g[x]) > 1 else costs[g[x][0]][x]\n",
        "    s = {}\n",
        "    for x in supply:\n",
        "        s[x] = (costs[x][g[x][1]] - costs[x][g[x][0]]) if len(g[x]) > 1 else costs[x][g[x][0]]\n",
        "    f = max(d, key=lambda n: d[n])\n",
        "    t = max(s, key=lambda n: s[n])\n",
        "    t, f = (f, g[f][0]) if d[f] > s[t] else (g[t][0], t)\n",
        "    v = min(supply[f], demand[t])\n",
        "    res[f][t] += v\n",
        "    demand[t] -= v\n",
        "    if demand[t] == 0:\n",
        "        for k, n in supply.items():\n",
        "            if n != 0:\n",
        "                g[k].remove(t)\n",
        "        del g[t]\n",
        "        del demand[t]\n",
        "    supply[f] -= v\n",
        "    if supply[f] == 0:\n",
        "        for k, n in demand.items():\n",
        "            if n != 0:\n",
        "                g[k].remove(f)\n",
        "        del g[f]\n",
        "        del supply[f]\n",
        "        cost = 0\n",
        "for g in sorted(costs):\n",
        "    for n in cols:\n",
        "        y = res[g][n]\n",
        "        cost += y * costs[g][n]\n",
        "print(\"\\n\\nTotal Cost = \", cost)"
      ],
      "metadata": {
        "colab": {
          "base_uri": "https://localhost:8080/"
        },
        "id": "746LIT56o8PW",
        "outputId": "575ce49d-74fb-49df-d7b0-133e3d9f30fa"
      },
      "execution_count": 2,
      "outputs": [
        {
          "output_type": "stream",
          "name": "stdout",
          "text": [
            "\n",
            "\n",
            "Total Cost =  2430\n"
          ]
        }
      ]
    },
    {
      "cell_type": "code",
      "source": [
        ""
      ],
      "metadata": {
        "id": "uF8UmCvepF7B"
      },
      "execution_count": null,
      "outputs": []
    }
  ]
}