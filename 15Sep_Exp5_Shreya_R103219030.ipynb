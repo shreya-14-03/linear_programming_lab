{
  "nbformat": 4,
  "nbformat_minor": 0,
  "metadata": {
    "colab": {
      "name": "15Sep_Exp5_Shreya_R103219030.ipynb",
      "provenance": [],
      "collapsed_sections": [],
      "authorship_tag": "ABX9TyNd0RFH0tCXklLIbXaS5X0o",
      "include_colab_link": true
    },
    "kernelspec": {
      "name": "python3",
      "display_name": "Python 3"
    },
    "language_info": {
      "name": "python"
    }
  },
  "cells": [
    {
      "cell_type": "markdown",
      "metadata": {
        "id": "view-in-github",
        "colab_type": "text"
      },
      "source": [
        "<a href=\"https://colab.research.google.com/github/shreya-14-03/linear_programming_lab/blob/main/15Sep_Exp5_Shreya_R103219030.ipynb\" target=\"_parent\"><img src=\"https://colab.research.google.com/assets/colab-badge.svg\" alt=\"Open In Colab\"/></a>"
      ]
    },
    {
      "cell_type": "markdown",
      "metadata": {
        "id": "MVeXUFeM0pY7"
      },
      "source": [
        "Problem1:MAXIMIZE Z=3x1 + 2x2 + 3x3\n",
        "SUBJECT TO\n",
        "2 x1 + x2 + x3 = 2\n",
        "x1 + 3 x2 + x3 = 6\n",
        "3 x1 + 4 x2 + 2 x3 = 8\n",
        "x1,x2,x3>=0"
      ]
    },
    {
      "cell_type": "code",
      "metadata": {
        "id": "OswkyP-GsXyQ"
      },
      "source": [
        "%%capture\n",
        "!pip install pulp "
      ],
      "execution_count": 1,
      "outputs": []
    },
    {
      "cell_type": "code",
      "metadata": {
        "id": "J-b0FqzRswVY"
      },
      "source": [
        "from pulp import *"
      ],
      "execution_count": 2,
      "outputs": []
    },
    {
      "cell_type": "code",
      "metadata": {
        "id": "0DdVocQIsxHJ"
      },
      "source": [
        "my_lp_problem = LpProblem(\"MyLPProblem\", LpMaximize)"
      ],
      "execution_count": 3,
      "outputs": []
    },
    {
      "cell_type": "code",
      "metadata": {
        "id": "_UiIEMM3s6KW"
      },
      "source": [
        "x1 = LpVariable( 'x1', lowBound=0, cat='Continuous')\n",
        "x2 = LpVariable( 'x2', lowBound=0, cat='Continuous')\n",
        "x3 = LpVariable( 'x3', lowBound=0, cat='Continuous')"
      ],
      "execution_count": 4,
      "outputs": []
    },
    {
      "cell_type": "code",
      "metadata": {
        "id": "71lUx1hVs6oH"
      },
      "source": [
        "# Objective function\n",
        "my_lp_problem += 3 * x1 + 2 * x2 + 3 * x3,\"Z\"\n",
        "# Constraints\n",
        "my_lp_problem += 2 * x1 + x2 + x3 == 2\n",
        "my_lp_problem += x1 + 3 * x2 + x3 == 6\n",
        "my_lp_problem += 3 * x1 + 4 * x2 + 2 * x3 ==  8"
      ],
      "execution_count": 5,
      "outputs": []
    },
    {
      "cell_type": "code",
      "metadata": {
        "colab": {
          "base_uri": "https://localhost:8080/"
        },
        "id": "5j1wx5MItE-m",
        "outputId": "df674960-3de5-4a2a-8d1a-0e9e734a91d7"
      },
      "source": [
        "my_lp_problem"
      ],
      "execution_count": 6,
      "outputs": [
        {
          "output_type": "execute_result",
          "data": {
            "text/plain": [
              "MyLPProblem:\n",
              "MAXIMIZE\n",
              "3*x1 + 2*x2 + 3*x3 + 0\n",
              "SUBJECT TO\n",
              "_C1: 2 x1 + x2 + x3 = 2\n",
              "\n",
              "_C2: x1 + 3 x2 + x3 = 6\n",
              "\n",
              "_C3: 3 x1 + 4 x2 + 2 x3 = 8\n",
              "\n",
              "VARIABLES\n",
              "x1 Continuous\n",
              "x2 Continuous\n",
              "x3 Continuous"
            ]
          },
          "metadata": {},
          "execution_count": 6
        }
      ]
    },
    {
      "cell_type": "code",
      "metadata": {
        "colab": {
          "base_uri": "https://localhost:8080/",
          "height": 35
        },
        "id": "UAW1zMDftK6A",
        "outputId": "7128c25d-64bb-48cf-8e07-652a6943fa0f"
      },
      "source": [
        "my_lp_problem.solve()\n",
        "LpStatus[my_lp_problem.status]"
      ],
      "execution_count": 7,
      "outputs": [
        {
          "output_type": "execute_result",
          "data": {
            "application/vnd.google.colaboratory.intrinsic+json": {
              "type": "string"
            },
            "text/plain": [
              "'Optimal'"
            ]
          },
          "metadata": {},
          "execution_count": 7
        }
      ]
    },
    {
      "cell_type": "code",
      "metadata": {
        "colab": {
          "base_uri": "https://localhost:8080/"
        },
        "id": "kJfwoRmbtLcb",
        "outputId": "9e70407a-077e-40b4-c7a8-327241ac3185"
      },
      "source": [
        "for variable in my_lp_problem.variables():\n",
        "    print (\"{} = {}\".format(variable.name, variable.varValue))"
      ],
      "execution_count": 8,
      "outputs": [
        {
          "output_type": "stream",
          "name": "stdout",
          "text": [
            "x1 = -8e-13\n",
            "x2 = 2.0\n",
            "x3 = 2.0001778e-12\n"
          ]
        }
      ]
    },
    {
      "cell_type": "code",
      "metadata": {
        "colab": {
          "base_uri": "https://localhost:8080/"
        },
        "id": "r8fKORjWtQFC",
        "outputId": "4ca402dc-b12c-4f74-fbd4-9d05a59238a2"
      },
      "source": [
        "value(my_lp_problem.objective)"
      ],
      "execution_count": 9,
      "outputs": [
        {
          "output_type": "execute_result",
          "data": {
            "text/plain": [
              "4.000000000003601"
            ]
          },
          "metadata": {},
          "execution_count": 9
        }
      ]
    },
    {
      "cell_type": "markdown",
      "metadata": {
        "id": "mz1xG7EL1gOR"
      },
      "source": [
        "Problem2:MINIMIZE Z=3x1 - 4x2 + 3x3\n",
        "SUBJECT TO\n",
        "5 x1 + 6 x2 + 2 x3 <= 5\n",
        "-1 x1 + 3 x2 + 5 x3 >= 8\n",
        "2 x1 + 5 x2 - 4 x3 <= 4\n",
        "x1,x2,x3>=0"
      ]
    },
    {
      "cell_type": "code",
      "metadata": {
        "id": "6hClS81xsyWX"
      },
      "source": [
        "my_lp_problem = LpProblem(\"MyLPProblem\", LpMinimize)"
      ],
      "execution_count": 10,
      "outputs": []
    },
    {
      "cell_type": "code",
      "metadata": {
        "id": "JnefWKZfs7bR"
      },
      "source": [
        "x1 = LpVariable( 'x1', lowBound=0, cat='Continuous')\n",
        "x2 = LpVariable( 'x2', lowBound=0, cat='Continuous')\n",
        "x3 = LpVariable( 'x3', lowBound=0, cat='Continuous')"
      ],
      "execution_count": 11,
      "outputs": []
    },
    {
      "cell_type": "code",
      "metadata": {
        "id": "W-sqKK0As760"
      },
      "source": [
        "# Objective function\n",
        "my_lp_problem += 3 * x1 - 4 * x2 + 3 * x3,\"Z\"\n",
        "# Constraints\n",
        "my_lp_problem += 5 * x1 + 6 * x2 + 2 * x3 <= 5\n",
        "my_lp_problem += -1 * x1 + 3 * x2 + 5 * x3 >= 8\n",
        "my_lp_problem += 2 * x1 + 5 * x2 -4 * x3 <=  4"
      ],
      "execution_count": 12,
      "outputs": []
    },
    {
      "cell_type": "code",
      "metadata": {
        "colab": {
          "base_uri": "https://localhost:8080/"
        },
        "id": "8b-RXDs8tF19",
        "outputId": "c442f44f-abd8-4bfe-8b43-e31b42c53b2a"
      },
      "source": [
        "my_lp_problem"
      ],
      "execution_count": 13,
      "outputs": [
        {
          "output_type": "execute_result",
          "data": {
            "text/plain": [
              "MyLPProblem:\n",
              "MINIMIZE\n",
              "3*x1 + -4*x2 + 3*x3 + 0\n",
              "SUBJECT TO\n",
              "_C1: 5 x1 + 6 x2 + 2 x3 <= 5\n",
              "\n",
              "_C2: - x1 + 3 x2 + 5 x3 >= 8\n",
              "\n",
              "_C3: 2 x1 + 5 x2 - 4 x3 <= 4\n",
              "\n",
              "VARIABLES\n",
              "x1 Continuous\n",
              "x2 Continuous\n",
              "x3 Continuous"
            ]
          },
          "metadata": {},
          "execution_count": 13
        }
      ]
    },
    {
      "cell_type": "code",
      "metadata": {
        "colab": {
          "base_uri": "https://localhost:8080/",
          "height": 35
        },
        "id": "LzJ-rP8ZtGXf",
        "outputId": "c5ab3bbd-2327-49ef-b596-64aee1e9057b"
      },
      "source": [
        "my_lp_problem.solve()\n",
        "LpStatus[my_lp_problem.status]"
      ],
      "execution_count": 14,
      "outputs": [
        {
          "output_type": "execute_result",
          "data": {
            "application/vnd.google.colaboratory.intrinsic+json": {
              "type": "string"
            },
            "text/plain": [
              "'Optimal'"
            ]
          },
          "metadata": {},
          "execution_count": 14
        }
      ]
    },
    {
      "cell_type": "code",
      "metadata": {
        "colab": {
          "base_uri": "https://localhost:8080/"
        },
        "id": "6RgxXAQRtMo7",
        "outputId": "eb8d6bb6-b009-4476-8aa7-7b65581bc405"
      },
      "source": [
        "for variable in my_lp_problem.variables():\n",
        "    print (\"{} = {}\".format(variable.name, variable.varValue))"
      ],
      "execution_count": 15,
      "outputs": [
        {
          "output_type": "stream",
          "name": "stdout",
          "text": [
            "x1 = 0.0\n",
            "x2 = 0.375\n",
            "x3 = 1.375\n"
          ]
        }
      ]
    },
    {
      "cell_type": "code",
      "metadata": {
        "colab": {
          "base_uri": "https://localhost:8080/"
        },
        "id": "J7G9_B_TtRVe",
        "outputId": "32bd06bd-3c2e-4d44-af37-337e19665b1e"
      },
      "source": [
        "value(my_lp_problem.objective)"
      ],
      "execution_count": 16,
      "outputs": [
        {
          "output_type": "execute_result",
          "data": {
            "text/plain": [
              "2.625"
            ]
          },
          "metadata": {},
          "execution_count": 16
        }
      ]
    },
    {
      "cell_type": "markdown",
      "metadata": {
        "id": "RqrX_OZezvKo"
      },
      "source": [
        "Problem3:MAXIMIZE Z=2x1 + 4x2 + 4 x3 - 3 x4\n",
        "SUBJECT TO\n",
        "x1 + x2 + x3 = 4\n",
        "x1 + 4 x2 + x4 = 8\n",
        "3 x1 + 4 x2 + 2 x3 = 8\n",
        "x1,x2,x3,x4>=0"
      ]
    },
    {
      "cell_type": "code",
      "metadata": {
        "id": "CZLZD2OBiN7i"
      },
      "source": [
        "my_lp_problem = LpProblem(\"MyLPProblem\", LpMaximize)"
      ],
      "execution_count": 17,
      "outputs": []
    },
    {
      "cell_type": "code",
      "metadata": {
        "id": "8IKutkteiaWx"
      },
      "source": [
        "x1 = LpVariable( 'x1', lowBound=0, cat='Continuous')\n",
        "x2 = LpVariable( 'x2', lowBound=0, cat='Continuous')\n",
        "x3 = LpVariable( 'x3', lowBound=0, cat='Continuous')\n",
        "x4 = LpVariable( 'x4', lowBound=0, cat='Continuous')"
      ],
      "execution_count": 18,
      "outputs": []
    },
    {
      "cell_type": "code",
      "metadata": {
        "id": "sYiQzI_rtBTx"
      },
      "source": [
        "# Objective function\n",
        "my_lp_problem += 2 * x1 + 4 * x2 + 4 * x3 - 3 * x4,\"Z\"\n",
        "# Constraints\n",
        "my_lp_problem += x1 + x2 + x3 == 4\n",
        "my_lp_problem += x1 + 4 * x2 + x4 == 8\n",
        "my_lp_problem += 3 * x1 + 4 * x2 + 2 * x3 ==  8"
      ],
      "execution_count": 19,
      "outputs": []
    },
    {
      "cell_type": "code",
      "metadata": {
        "colab": {
          "base_uri": "https://localhost:8080/"
        },
        "id": "73YU_mHEtH1S",
        "outputId": "229f577e-aab3-41fa-a6d7-bce3f236c5c4"
      },
      "source": [
        "my_lp_problem"
      ],
      "execution_count": 20,
      "outputs": [
        {
          "output_type": "execute_result",
          "data": {
            "text/plain": [
              "MyLPProblem:\n",
              "MAXIMIZE\n",
              "2*x1 + 4*x2 + 4*x3 + -3*x4 + 0\n",
              "SUBJECT TO\n",
              "_C1: x1 + x2 + x3 = 4\n",
              "\n",
              "_C2: x1 + 4 x2 + x4 = 8\n",
              "\n",
              "_C3: 3 x1 + 4 x2 + 2 x3 = 8\n",
              "\n",
              "VARIABLES\n",
              "x1 Continuous\n",
              "x2 Continuous\n",
              "x3 Continuous\n",
              "x4 Continuous"
            ]
          },
          "metadata": {},
          "execution_count": 20
        }
      ]
    },
    {
      "cell_type": "code",
      "metadata": {
        "colab": {
          "base_uri": "https://localhost:8080/",
          "height": 35
        },
        "id": "xUogjTLMtIZy",
        "outputId": "76204726-dfe8-4c5e-e421-ec0cfed75543"
      },
      "source": [
        "my_lp_problem.solve()\n",
        "LpStatus[my_lp_problem.status]"
      ],
      "execution_count": 21,
      "outputs": [
        {
          "output_type": "execute_result",
          "data": {
            "application/vnd.google.colaboratory.intrinsic+json": {
              "type": "string"
            },
            "text/plain": [
              "'Optimal'"
            ]
          },
          "metadata": {},
          "execution_count": 21
        }
      ]
    },
    {
      "cell_type": "code",
      "metadata": {
        "colab": {
          "base_uri": "https://localhost:8080/"
        },
        "id": "QJXTpC1htNy1",
        "outputId": "e7906097-8e9b-47f8-ca4d-8c2eb1367af8"
      },
      "source": [
        "for variable in my_lp_problem.variables():\n",
        "    print (\"{} = {}\".format(variable.name, variable.varValue))"
      ],
      "execution_count": 22,
      "outputs": [
        {
          "output_type": "stream",
          "name": "stdout",
          "text": [
            "x1 = 0.0\n",
            "x2 = 0.0\n",
            "x3 = 4.0\n",
            "x4 = 8.0\n"
          ]
        }
      ]
    },
    {
      "cell_type": "code",
      "metadata": {
        "colab": {
          "base_uri": "https://localhost:8080/"
        },
        "id": "4X_neaHutSap",
        "outputId": "8261b630-72c2-4802-aaed-4d1f5c89c480"
      },
      "source": [
        "value(my_lp_problem.objective)"
      ],
      "execution_count": 23,
      "outputs": [
        {
          "output_type": "execute_result",
          "data": {
            "text/plain": [
              "-8.0"
            ]
          },
          "metadata": {},
          "execution_count": 23
        }
      ]
    },
    {
      "cell_type": "code",
      "metadata": {
        "id": "I1a_y3Wwz3Cn"
      },
      "source": [
        ""
      ],
      "execution_count": null,
      "outputs": []
    }
  ]
}