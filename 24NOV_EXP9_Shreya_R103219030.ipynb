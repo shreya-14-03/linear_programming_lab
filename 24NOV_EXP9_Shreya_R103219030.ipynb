{
  "nbformat": 4,
  "nbformat_minor": 0,
  "metadata": {
    "colab": {
      "name": "24NOV_EXP9_Shreya_R103219030.ipynb",
      "provenance": [],
      "authorship_tag": "ABX9TyPvJSw2I2cRdEQk5BmPOsyw",
      "include_colab_link": true
    },
    "kernelspec": {
      "name": "python3",
      "display_name": "Python 3"
    },
    "language_info": {
      "name": "python"
    }
  },
  "cells": [
    {
      "cell_type": "markdown",
      "metadata": {
        "id": "view-in-github",
        "colab_type": "text"
      },
      "source": [
        "<a href=\"https://colab.research.google.com/github/shreya-14-03/linear_programming_lab/blob/main/24NOV_EXP9_Shreya_R103219030.ipynb\" target=\"_parent\"><img src=\"https://colab.research.google.com/assets/colab-badge.svg\" alt=\"Open In Colab\"/></a>"
      ]
    },
    {
      "cell_type": "code",
      "execution_count": 1,
      "metadata": {
        "id": "5ilmwekUn2AM"
      },
      "outputs": [],
      "source": [
        "from sys import maxsize\n",
        "from itertools import permutations"
      ]
    },
    {
      "cell_type": "markdown",
      "source": [
        "Q1:Mr iyer is a salesman with Delite Manufacturing Company. He wants to visit six cities say, 1, 2, 3, 4, 5 and 6, starting with city 1 where he is stationed. The distance between various cities is given in the Table below. Mr Iyer wants to develop a tour through the five other cities and return to his home city in such a way that he has to travel the minimum distance."
      ],
      "metadata": {
        "id": "DHmHO15yn26_"
      }
    },
    {
      "cell_type": "code",
      "source": [
        "V = 6\n",
        " \n",
        "def travellingSalesmanProblem(graph, s):\n",
        "    vertex = []\n",
        "    for i in range(V):\n",
        "        if i != s:\n",
        "            vertex.append(i)\n",
        "    min_path = maxsize\n",
        "    next_permutation=permutations(vertex)\n",
        "    for i in next_permutation:\n",
        "        current_pathweight = 0\n",
        "        k = s\n",
        "        for j in i:\n",
        "            current_pathweight += graph[k][j]\n",
        "            k = j\n",
        "        current_pathweight += graph[k][s]\n",
        "        min_path = min(min_path, current_pathweight)\n",
        "         \n",
        "    return min_path\n",
        " \n",
        " \n",
        "if __name__ == \"__main__\":\n",
        " \n",
        "    graph = [[0, 10, 100, 50, 33, 66], [10, 0, 22, 86, 952, 3],\n",
        "            [100, 22, 0, 6, 86, 2], [50, 86, 6, 0, 5, 4],\n",
        "             [33, 952, 86, 5, 0, 9],[66, 3, 2, 4, 9, 0]]\n",
        "    s = 0\n",
        "    print(travellingSalesmanProblem(graph, s))"
      ],
      "metadata": {
        "colab": {
          "base_uri": "https://localhost:8080/"
        },
        "id": "yWi1-rmNoFtr",
        "outputId": "b1cc1f96-1d6a-4a60-9f50-b5d5cdd85c5b"
      },
      "execution_count": 2,
      "outputs": [
        {
          "output_type": "stream",
          "name": "stdout",
          "text": [
            "59\n"
          ]
        }
      ]
    },
    {
      "cell_type": "code",
      "source": [
        ""
      ],
      "metadata": {
        "id": "DaR29dqAoGas"
      },
      "execution_count": null,
      "outputs": []
    }
  ]
}