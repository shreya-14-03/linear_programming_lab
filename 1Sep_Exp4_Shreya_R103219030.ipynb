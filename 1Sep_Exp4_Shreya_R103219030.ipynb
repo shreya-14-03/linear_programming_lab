{
  "nbformat": 4,
  "nbformat_minor": 0,
  "metadata": {
    "colab": {
      "name": "1Sep_Exp4_Shreya_R103219030.ipynb",
      "provenance": [],
      "authorship_tag": "ABX9TyMtCX6zD1UJF5Z1OKxTSrLX",
      "include_colab_link": true
    },
    "kernelspec": {
      "name": "python3",
      "display_name": "Python 3"
    },
    "language_info": {
      "name": "python"
    }
  },
  "cells": [
    {
      "cell_type": "markdown",
      "metadata": {
        "id": "view-in-github",
        "colab_type": "text"
      },
      "source": [
        "<a href=\"https://colab.research.google.com/github/shreya-14-03/linear_programming_lab/blob/main/1Sep_Exp4_Shreya_R103219030.ipynb\" target=\"_parent\"><img src=\"https://colab.research.google.com/assets/colab-badge.svg\" alt=\"Open In Colab\"/></a>"
      ]
    },
    {
      "cell_type": "markdown",
      "metadata": {
        "id": "kE_NOhcXDohw"
      },
      "source": [
        "Q1:Maximize Z = 7*x1 +  10*X2\n",
        "Subject to,\n",
        "-X1 + 3X2 ≤6\n",
        "7X1 + X2 ≤35\n",
        "X1 ,X2 ≥0 and integer"
      ]
    },
    {
      "cell_type": "code",
      "metadata": {
        "id": "PAzZSUMBCFZE",
        "colab": {
          "base_uri": "https://localhost:8080/"
        },
        "outputId": "6c95637e-a9af-4247-dff8-754010882149"
      },
      "source": [
        "import cvxpy as cp\n",
        "\n",
        "x1=cp.Variable()\n",
        "x2=cp.Variable()\n",
        "\n",
        "objective=cp.Maximize(7*x1+10*x2)\n",
        "\n",
        "constraints= [-1*x1 + 3*x2<=6,\n",
        "              7*x1 + x2 <=35]\n",
        "\n",
        "problem=cp.Problem(objective,constraints)    \n",
        "problem.solve()          "
      ],
      "execution_count": null,
      "outputs": [
        {
          "output_type": "execute_result",
          "data": {
            "text/plain": [
              "66.49999997691361"
            ]
          },
          "metadata": {},
          "execution_count": 2
        }
      ]
    },
    {
      "cell_type": "markdown",
      "metadata": {
        "id": "dkHj5L_tZXPu"
      },
      "source": [
        "Q2:Maximize Z = 5x1 + 8X2 Subject to, x1 + X2 ≤6 5X1 + 9X2 ≤45 X1 ,X2 ≥0 and integer"
      ]
    },
    {
      "cell_type": "code",
      "metadata": {
        "colab": {
          "base_uri": "https://localhost:8080/"
        },
        "id": "hjZ7gkyga6Ex",
        "outputId": "f997bb92-1770-4e67-90f2-3f206f3fc3a9"
      },
      "source": [
        "x1=cp.Variable()\n",
        "x2=cp.Variable()\n",
        "\n",
        "objective=cp.Maximize(5*x1+8*x2)\n",
        "\n",
        "constraints= [x1 + x2<=6,\n",
        "              5*x1 + 9*x2 <=45]\n",
        "\n",
        "problem=cp.Problem(objective,constraints)\n",
        "problem.solve()   "
      ],
      "execution_count": null,
      "outputs": [
        {
          "output_type": "execute_result",
          "data": {
            "text/plain": [
              "41.25000000018229"
            ]
          },
          "metadata": {},
          "execution_count": 6
        }
      ]
    },
    {
      "cell_type": "code",
      "metadata": {
        "id": "U6iIY1JBZuUZ"
      },
      "source": [
        ""
      ],
      "execution_count": null,
      "outputs": []
    }
  ]
}