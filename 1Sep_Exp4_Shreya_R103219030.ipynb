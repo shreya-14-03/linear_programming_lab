{
  "nbformat": 4,
  "nbformat_minor": 0,
  "metadata": {
    "colab": {
      "name": "1Sep_Exp4_Shreya_R103219030.ipynb",
      "provenance": [],
      "collapsed_sections": [],
      "authorship_tag": "ABX9TyPPod9G2pUNfN5ejQrctt2S",
      "include_colab_link": true
    },
    "kernelspec": {
      "name": "python3",
      "display_name": "Python 3"
    },
    "language_info": {
      "name": "python"
    }
  },
  "cells": [
    {
      "cell_type": "markdown",
      "metadata": {
        "id": "view-in-github",
        "colab_type": "text"
      },
      "source": [
        "<a href=\"https://colab.research.google.com/github/shreya-14-03/linear_programming_lab/blob/main/1Sep_Exp4_Shreya_R103219030.ipynb\" target=\"_parent\"><img src=\"https://colab.research.google.com/assets/colab-badge.svg\" alt=\"Open In Colab\"/></a>"
      ]
    },
    {
      "cell_type": "markdown",
      "metadata": {
        "id": "kE_NOhcXDohw"
      },
      "source": [
        "Q1:Maximize Z = 7*x1 +  10*X2\n",
        "Subject to,\n",
        "-X1 + 3X2 ≤6\n",
        "7X1 + X2 ≤35\n",
        "X1 ,X2 ≥0 and integer"
      ]
    },
    {
      "cell_type": "code",
      "metadata": {
        "id": "PAzZSUMBCFZE",
        "colab": {
          "base_uri": "https://localhost:8080/"
        },
        "outputId": "d25ede7f-61a9-4510-9c74-d1622e947ca8"
      },
      "source": [
        "import cvxpy as cp\n",
        "\n",
        "x1=cp.Variable(integer = True)\n",
        "x2=cp.Variable(integer = True)\n",
        "\n",
        "objective=cp.Maximize(7*x1+10*x2)\n",
        "\n",
        "constraints= [-1*x1 + 3*x2<=6,\n",
        "              7*x1 + x2 <=35,\n",
        "              x1>=0,\n",
        "               x2>=0]\n",
        "\n",
        "problem=cp.Problem(objective,constraints)    \n",
        "problem.solve()          "
      ],
      "execution_count": 8,
      "outputs": [
        {
          "output_type": "execute_result",
          "data": {
            "text/plain": [
              "58.0"
            ]
          },
          "metadata": {},
          "execution_count": 8
        }
      ]
    },
    {
      "cell_type": "markdown",
      "metadata": {
        "id": "dkHj5L_tZXPu"
      },
      "source": [
        "Q2:Maximize Z = 5x1 + 8X2 Subject to, x1 + X2 ≤6 5X1 + 9X2 ≤45 X1 ,X2 ≥0 and integer"
      ]
    },
    {
      "cell_type": "code",
      "metadata": {
        "colab": {
          "base_uri": "https://localhost:8080/"
        },
        "id": "hjZ7gkyga6Ex",
        "outputId": "0b5caa53-ffec-407f-d5d2-c1f4066e72e8"
      },
      "source": [
        "x1=cp.Variable(integer = True)\n",
        "x2=cp.Variable(integer = True)\n",
        "\n",
        "objective=cp.Maximize(5*x1+8*x2)\n",
        "\n",
        "constraints= [x1 + x2<=6,\n",
        "              5*x1 + 9*x2 <=45,\n",
        "              x1>=0,\n",
        "               x2>=0]\n",
        "\n",
        "problem=cp.Problem(objective,constraints)\n",
        "problem.solve()   "
      ],
      "execution_count": 9,
      "outputs": [
        {
          "output_type": "execute_result",
          "data": {
            "text/plain": [
              "40.0"
            ]
          },
          "metadata": {},
          "execution_count": 9
        }
      ]
    },
    {
      "cell_type": "markdown",
      "metadata": {
        "id": "cQ_NjbYMc6KL"
      },
      "source": [
        "Q3:\tA machine is used to produce two interchangeable products. The daily capacity of the\n",
        "machine can produce at most 20 units of product 1 and 10 units of product 2. Alternatively,\n",
        "       the machine can be adjusted to produce at most 12 units of product 1 and 25\n",
        "       units of product 2 daily. Market analysis shows that the maximum daily demand for the\n",
        "       two products combined is 35 units. Given that the unit profits for the two respective\n",
        "       products are $10 and $12, which of the two machine settings should be selected? \n",
        "       Formulate the problem as an IPP and find the optimum\n"
      ]
    },
    {
      "cell_type": "code",
      "metadata": {
        "colab": {
          "base_uri": "https://localhost:8080/"
        },
        "id": "WgdoRbtftb4W",
        "outputId": "79fc449c-16ad-4433-9418-b525e8b924e6"
      },
      "source": [
        "x1 = cp.Variable(integer = True)\n",
        "x2 = cp.Variable(integer = True)\n",
        "objective = cp.Maximize( 10*x1 + 12*x2 )\n",
        "constraints = [ x1 + x2 <= 35,\n",
        "               25*x1-12*x2 <= 0,\n",
        "               12*x1-10*x2 <= 0,\n",
        "               x1>=0,\n",
        "               x2>=0]\n",
        "prob = cp.Problem(objective, constraints)\n",
        "prob.solve()\n",
        "\n",
        "print(\"Value of x1 :\", x1.value)\n",
        "print(\"Value of x2:\", x2.value)\n",
        "print(\"Value of obj:\",prob.value)"
      ],
      "execution_count": 7,
      "outputs": [
        {
          "output_type": "stream",
          "name": "stdout",
          "text": [
            "Value of x1 : 0.0\n",
            "Value of x2: 35.0\n",
            "Value of obj: 420.0\n"
          ]
        }
      ]
    },
    {
      "cell_type": "code",
      "metadata": {
        "id": "akTXOKwHtdBG"
      },
      "source": [
        ""
      ],
      "execution_count": null,
      "outputs": []
    }
  ]
}