{
  "nbformat": 4,
  "nbformat_minor": 0,
  "metadata": {
    "colab": {
      "name": "22Sep_Exp6_Shreya_R103219030.ipynb",
      "provenance": [],
      "authorship_tag": "ABX9TyN3r3svxivrgWvrf563bZU/",
      "include_colab_link": true
    },
    "kernelspec": {
      "name": "python3",
      "display_name": "Python 3"
    },
    "language_info": {
      "name": "python"
    }
  },
  "cells": [
    {
      "cell_type": "markdown",
      "metadata": {
        "id": "view-in-github",
        "colab_type": "text"
      },
      "source": [
        "<a href=\"https://colab.research.google.com/github/shreya-14-03/linear_programming_lab/blob/main/22Sep_Exp6_Shreya_R103219030.ipynb\" target=\"_parent\"><img src=\"https://colab.research.google.com/assets/colab-badge.svg\" alt=\"Open In Colab\"/></a>"
      ]
    },
    {
      "cell_type": "code",
      "metadata": {
        "id": "WricXSj6ui2T"
      },
      "source": [
        "import numpy as np\n",
        "import pandas as pd"
      ],
      "execution_count": 67,
      "outputs": []
    },
    {
      "cell_type": "code",
      "metadata": {
        "id": "upFvuFtTrT5X"
      },
      "source": [
        "example = \"/content/sample_data/lab6_data.txt\"\n",
        "file1 = open(example, \"r\")"
      ],
      "execution_count": 68,
      "outputs": []
    },
    {
      "cell_type": "code",
      "metadata": {
        "colab": {
          "base_uri": "https://localhost:8080/"
        },
        "id": "J2im51WqufGa",
        "outputId": "1d693a17-7f39-41f4-c618-f595277cb00c"
      },
      "source": [
        "FileContent = file1.read()\n",
        "FileContent\n",
        "print(FileContent)"
      ],
      "execution_count": 69,
      "outputs": [
        {
          "output_type": "stream",
          "name": "stdout",
          "text": [
            "1)\tConsider a Belgian company Volsay, which specializes in producing ammoniac gas (NH3)\n",
            "and ammonium chloride (NH4Cl). Volsay has at its disposal 50 units of nitrogen (N), 180 units\n",
            "of hydrogen (H), and 40 units of chlorine (Cl). The company makes a profit of 40 Euros for\n",
            "each sale of an ammoniac gas unit and 50 Euros for each sale of an ammonium chloride\n",
            "unit. Volsay would like a production plan maximizing its profits given its available stocks.\n",
            "2)\tOn October 1 a company received a contract to supply 6000 units of specialized product . the term of contract require that 1000 unit  be shipped in October , 3000 units in November and 2000 units in December . the company can manufacture 1500 units in a month on a regular time and 750 units per month in overtime. The manufacturing cost per item produced in regular time is Rs 3 and the cost per item produced during overtime is Rs 5.The monthly storage cost is Rs 1.Formulate this problem as LP model so as to minimize total cost.\n",
            "3)\tMaximize Z=4x1+3x2\n",
            "Subject to\n",
            "2x1+x2 ≤ 1000\n",
            "x1+x2 ≤ 800\n",
            "x1 ≤ 400\n",
            "x2 ≤ 700, x1,x2  ≥0\n",
            "\n"
          ]
        }
      ]
    },
    {
      "cell_type": "markdown",
      "metadata": {
        "id": "AiRDm0Pczjcn"
      },
      "source": [
        "Q1 solution:"
      ]
    },
    {
      "cell_type": "code",
      "metadata": {
        "id": "OswkyP-GsXyQ"
      },
      "source": [
        "%%capture\n",
        "!pip install pulp "
      ],
      "execution_count": 70,
      "outputs": []
    },
    {
      "cell_type": "code",
      "metadata": {
        "id": "J-b0FqzRswVY"
      },
      "source": [
        "from pulp import *"
      ],
      "execution_count": 71,
      "outputs": []
    },
    {
      "cell_type": "code",
      "metadata": {
        "id": "0DdVocQIsxHJ"
      },
      "source": [
        "my_lp_problem = LpProblem(\"MyLPProblem\", LpMaximize)"
      ],
      "execution_count": 53,
      "outputs": []
    },
    {
      "cell_type": "code",
      "metadata": {
        "id": "_UiIEMM3s6KW"
      },
      "source": [
        "gas = LpVariable( 'gas', lowBound=0, cat='Continuous')\n",
        "chloride = LpVariable( 'chloride', lowBound=0, cat='Continuous')"
      ],
      "execution_count": 54,
      "outputs": []
    },
    {
      "cell_type": "code",
      "metadata": {
        "id": "71lUx1hVs6oH"
      },
      "source": [
        "# Objective function\n",
        "my_lp_problem += 40 * gas + 50 * chloride,\"Z\"\n",
        "# Constraints\n",
        "my_lp_problem += gas + chloride <= 50\n",
        "my_lp_problem += 3 * gas + 4 * chloride <= 180\n",
        "my_lp_problem += chloride <= 40"
      ],
      "execution_count": 55,
      "outputs": []
    },
    {
      "cell_type": "code",
      "metadata": {
        "colab": {
          "base_uri": "https://localhost:8080/"
        },
        "id": "5j1wx5MItE-m",
        "outputId": "358263d7-6deb-4d06-a892-77a370c9604f"
      },
      "source": [
        "my_lp_problem"
      ],
      "execution_count": 56,
      "outputs": [
        {
          "output_type": "execute_result",
          "data": {
            "text/plain": [
              "MyLPProblem:\n",
              "MAXIMIZE\n",
              "50*chloride + 40*gas + 0\n",
              "SUBJECT TO\n",
              "_C1: chloride + gas <= 50\n",
              "\n",
              "_C2: 4 chloride + 3 gas <= 180\n",
              "\n",
              "_C3: chloride <= 40\n",
              "\n",
              "VARIABLES\n",
              "chloride Continuous\n",
              "gas Continuous"
            ]
          },
          "metadata": {},
          "execution_count": 56
        }
      ]
    },
    {
      "cell_type": "code",
      "metadata": {
        "colab": {
          "base_uri": "https://localhost:8080/",
          "height": 35
        },
        "id": "UAW1zMDftK6A",
        "outputId": "c59927de-9c45-44ec-d75a-bfbc73fa1a4f"
      },
      "source": [
        "my_lp_problem.solve()\n",
        "LpStatus[my_lp_problem.status]"
      ],
      "execution_count": 57,
      "outputs": [
        {
          "output_type": "execute_result",
          "data": {
            "application/vnd.google.colaboratory.intrinsic+json": {
              "type": "string"
            },
            "text/plain": [
              "'Optimal'"
            ]
          },
          "metadata": {},
          "execution_count": 57
        }
      ]
    },
    {
      "cell_type": "code",
      "metadata": {
        "colab": {
          "base_uri": "https://localhost:8080/"
        },
        "id": "kJfwoRmbtLcb",
        "outputId": "e4cd425b-47cb-4661-9503-3d0f862e53dc"
      },
      "source": [
        "for variable in my_lp_problem.variables():\n",
        "    print (\"{} = {}\".format(variable.name, variable.varValue))"
      ],
      "execution_count": 58,
      "outputs": [
        {
          "output_type": "stream",
          "name": "stdout",
          "text": [
            "chloride = 30.0\n",
            "gas = 20.0\n"
          ]
        }
      ]
    },
    {
      "cell_type": "code",
      "metadata": {
        "colab": {
          "base_uri": "https://localhost:8080/"
        },
        "id": "r8fKORjWtQFC",
        "outputId": "5bfd3813-2dd5-45e6-fa2b-17a7b1be92fc"
      },
      "source": [
        "value(my_lp_problem.objective)"
      ],
      "execution_count": 59,
      "outputs": [
        {
          "output_type": "execute_result",
          "data": {
            "text/plain": [
              "2300.0"
            ]
          },
          "metadata": {},
          "execution_count": 59
        }
      ]
    },
    {
      "cell_type": "markdown",
      "metadata": {
        "id": "DaF0QumJ14fu"
      },
      "source": [
        "Q2 Solution:\n",
        "let Xijk = number of units manufactured in month i(1:october,2:november,3:december) during shift j(1:regular time,2:overtime) and shipped in month k(1:october,2:november,3:december). "
      ]
    },
    {
      "cell_type": "code",
      "metadata": {
        "id": "6hClS81xsyWX"
      },
      "source": [
        "my_lp_problem = LpProblem(\"MyLPProblem\", LpMinimize)"
      ],
      "execution_count": 81,
      "outputs": []
    },
    {
      "cell_type": "code",
      "metadata": {
        "id": "JnefWKZfs7bR"
      },
      "source": [
        "x111 = LpVariable( 'x111', lowBound=0, cat='Continuous')\n",
        "x121 = LpVariable( 'x121', lowBound=0, cat='Continuous')\n",
        "x112 = LpVariable( 'x112', lowBound=0, cat='Continuous')\n",
        "x122 = LpVariable( 'x122', lowBound=0, cat='Continuous')\n",
        "x113 = LpVariable( 'x113', lowBound=0, cat='Continuous')\n",
        "x123 = LpVariable( 'x123', lowBound=0, cat='Continuous')\n",
        "x212 = LpVariable( 'x212', lowBound=0, cat='Continuous')\n",
        "x222 = LpVariable( 'x222', lowBound=0, cat='Continuous')\n",
        "x213 = LpVariable( 'x213', lowBound=0, cat='Continuous')\n",
        "x223 = LpVariable( 'x223', lowBound=0, cat='Continuous')\n",
        "x313 = LpVariable( 'x313', lowBound=0, cat='Continuous')\n",
        "x323 = LpVariable( 'x323', lowBound=0, cat='Continuous')"
      ],
      "execution_count": 82,
      "outputs": []
    },
    {
      "cell_type": "code",
      "metadata": {
        "id": "W-sqKK0As760"
      },
      "source": [
        "# Objective function\n",
        "my_lp_problem += 3 * x111 + 5 * x121 + 4 * x112 + 6 * x121 + 5 * x113 + 7 * x123 + 3 * x212 + 5 *  x222 + 4 * x213 + 6 * x223 + 3 *  x313 + 5 * x323,\"Z\"\n",
        "# Constraints\n",
        "my_lp_problem += x111 + x112 + x113 <= 1500\n",
        "my_lp_problem += x212 + x213 <= 1500\n",
        "my_lp_problem += x313 <= 1500\n",
        "my_lp_problem += x121 + x122 + x123 <= 750\n",
        "my_lp_problem += x222 + x223 <= 750\n",
        "my_lp_problem += x323 <= 750\n",
        "my_lp_problem += x111 + x121 == 1000\n",
        "my_lp_problem += x121 + x122 + x212 + x222 == 3000\n",
        "my_lp_problem += x113 + x123 + x213 + x223 + x313 + x323 == 2000"
      ],
      "execution_count": 83,
      "outputs": []
    },
    {
      "cell_type": "code",
      "metadata": {
        "colab": {
          "base_uri": "https://localhost:8080/"
        },
        "id": "8b-RXDs8tF19",
        "outputId": "4577dbe9-5660-4511-ead7-3408b323d165"
      },
      "source": [
        "my_lp_problem"
      ],
      "execution_count": 84,
      "outputs": [
        {
          "output_type": "execute_result",
          "data": {
            "text/plain": [
              "MyLPProblem:\n",
              "MINIMIZE\n",
              "3*x111 + 4*x112 + 5*x113 + 11*x121 + 7*x123 + 3*x212 + 4*x213 + 5*x222 + 6*x223 + 3*x313 + 5*x323 + 0\n",
              "SUBJECT TO\n",
              "_C1: x111 + x112 + x113 <= 1500\n",
              "\n",
              "_C2: x212 + x213 <= 1500\n",
              "\n",
              "_C3: x313 <= 1500\n",
              "\n",
              "_C4: x121 + x122 + x123 <= 750\n",
              "\n",
              "_C5: x222 + x223 <= 750\n",
              "\n",
              "_C6: x323 <= 750\n",
              "\n",
              "_C7: x111 + x121 = 1000\n",
              "\n",
              "_C8: x121 + x122 + x212 + x222 = 3000\n",
              "\n",
              "_C9: x113 + x123 + x213 + x223 + x313 + x323 = 2000\n",
              "\n",
              "VARIABLES\n",
              "x111 Continuous\n",
              "x112 Continuous\n",
              "x113 Continuous\n",
              "x121 Continuous\n",
              "x122 Continuous\n",
              "x123 Continuous\n",
              "x212 Continuous\n",
              "x213 Continuous\n",
              "x222 Continuous\n",
              "x223 Continuous\n",
              "x313 Continuous\n",
              "x323 Continuous"
            ]
          },
          "metadata": {},
          "execution_count": 84
        }
      ]
    },
    {
      "cell_type": "code",
      "metadata": {
        "colab": {
          "base_uri": "https://localhost:8080/",
          "height": 35
        },
        "id": "LzJ-rP8ZtGXf",
        "outputId": "0bc4b3ea-9a01-464c-faef-1040f4d2c9e1"
      },
      "source": [
        "my_lp_problem.solve()\n",
        "LpStatus[my_lp_problem.status]"
      ],
      "execution_count": 85,
      "outputs": [
        {
          "output_type": "execute_result",
          "data": {
            "application/vnd.google.colaboratory.intrinsic+json": {
              "type": "string"
            },
            "text/plain": [
              "'Optimal'"
            ]
          },
          "metadata": {},
          "execution_count": 85
        }
      ]
    },
    {
      "cell_type": "code",
      "metadata": {
        "colab": {
          "base_uri": "https://localhost:8080/"
        },
        "id": "6RgxXAQRtMo7",
        "outputId": "c39e7b19-0d1a-44ea-860c-a9a20232b9e4"
      },
      "source": [
        "for variable in my_lp_problem.variables():\n",
        "    print (\"{} = {}\".format(variable.name, variable.varValue))"
      ],
      "execution_count": 86,
      "outputs": [
        {
          "output_type": "stream",
          "name": "stdout",
          "text": [
            "x111 = 1000.0\n",
            "x112 = 0.0\n",
            "x113 = 500.0\n",
            "x121 = 0.0\n",
            "x122 = 750.0\n",
            "x123 = 0.0\n",
            "x212 = 1500.0\n",
            "x213 = 0.0\n",
            "x222 = 750.0\n",
            "x223 = 0.0\n",
            "x313 = 1500.0\n",
            "x323 = 0.0\n"
          ]
        }
      ]
    },
    {
      "cell_type": "code",
      "metadata": {
        "colab": {
          "base_uri": "https://localhost:8080/"
        },
        "id": "J7G9_B_TtRVe",
        "outputId": "d21a2b48-35af-48a3-b194-d013fc1a61ab"
      },
      "source": [
        "value(my_lp_problem.objective)"
      ],
      "execution_count": 87,
      "outputs": [
        {
          "output_type": "execute_result",
          "data": {
            "text/plain": [
              "18250.0"
            ]
          },
          "metadata": {},
          "execution_count": 87
        }
      ]
    },
    {
      "cell_type": "markdown",
      "metadata": {
        "id": "0xhnc-lfAwsi"
      },
      "source": [
        "Q3 Solution:"
      ]
    },
    {
      "cell_type": "code",
      "metadata": {
        "id": "CZLZD2OBiN7i"
      },
      "source": [
        "my_lp_problem = LpProblem(\"MyLPProblem\", LpMaximize)"
      ],
      "execution_count": 89,
      "outputs": []
    },
    {
      "cell_type": "code",
      "metadata": {
        "id": "8IKutkteiaWx"
      },
      "source": [
        "x1 = LpVariable( 'x1', lowBound=0, cat='Continuous')\n",
        "x2 = LpVariable( 'x2', lowBound=0, cat='Continuous')"
      ],
      "execution_count": 90,
      "outputs": []
    },
    {
      "cell_type": "code",
      "metadata": {
        "id": "sYiQzI_rtBTx"
      },
      "source": [
        "# Objective function\n",
        "my_lp_problem += 4 * x1 + 3 * x2,\"Z\"\n",
        "# Constraints\n",
        "my_lp_problem += 2 * x1 + x2 <= 1000\n",
        "my_lp_problem += x1 + x2 <= 800\n",
        "my_lp_problem += x1 <= 400\n",
        "my_lp_problem += x2 <= 700"
      ],
      "execution_count": 91,
      "outputs": []
    },
    {
      "cell_type": "code",
      "metadata": {
        "colab": {
          "base_uri": "https://localhost:8080/"
        },
        "id": "73YU_mHEtH1S",
        "outputId": "3f43080e-90ef-4c2b-a49c-d9e4827eb805"
      },
      "source": [
        "my_lp_problem"
      ],
      "execution_count": 92,
      "outputs": [
        {
          "output_type": "execute_result",
          "data": {
            "text/plain": [
              "MyLPProblem:\n",
              "MAXIMIZE\n",
              "4*x1 + 3*x2 + 0\n",
              "SUBJECT TO\n",
              "_C1: 2 x1 + x2 <= 1000\n",
              "\n",
              "_C2: x1 + x2 <= 800\n",
              "\n",
              "_C3: x1 <= 400\n",
              "\n",
              "_C4: x2 <= 700\n",
              "\n",
              "VARIABLES\n",
              "x1 Continuous\n",
              "x2 Continuous"
            ]
          },
          "metadata": {},
          "execution_count": 92
        }
      ]
    },
    {
      "cell_type": "code",
      "metadata": {
        "colab": {
          "base_uri": "https://localhost:8080/",
          "height": 35
        },
        "id": "xUogjTLMtIZy",
        "outputId": "3e779f05-c989-4bc3-bad4-baccde8a2d48"
      },
      "source": [
        "my_lp_problem.solve()\n",
        "LpStatus[my_lp_problem.status]"
      ],
      "execution_count": 93,
      "outputs": [
        {
          "output_type": "execute_result",
          "data": {
            "application/vnd.google.colaboratory.intrinsic+json": {
              "type": "string"
            },
            "text/plain": [
              "'Optimal'"
            ]
          },
          "metadata": {},
          "execution_count": 93
        }
      ]
    },
    {
      "cell_type": "code",
      "metadata": {
        "colab": {
          "base_uri": "https://localhost:8080/"
        },
        "id": "QJXTpC1htNy1",
        "outputId": "af55b0e4-a3d4-4be7-dac6-3728f05548da"
      },
      "source": [
        "for variable in my_lp_problem.variables():\n",
        "    print (\"{} = {}\".format(variable.name, variable.varValue))"
      ],
      "execution_count": 94,
      "outputs": [
        {
          "output_type": "stream",
          "name": "stdout",
          "text": [
            "x1 = 200.0\n",
            "x2 = 600.0\n"
          ]
        }
      ]
    },
    {
      "cell_type": "code",
      "metadata": {
        "colab": {
          "base_uri": "https://localhost:8080/"
        },
        "id": "4X_neaHutSap",
        "outputId": "d536059a-aa84-4c16-f081-36b857949c48"
      },
      "source": [
        "value(my_lp_problem.objective)"
      ],
      "execution_count": 95,
      "outputs": [
        {
          "output_type": "execute_result",
          "data": {
            "text/plain": [
              "2600.0"
            ]
          },
          "metadata": {},
          "execution_count": 95
        }
      ]
    },
    {
      "cell_type": "code",
      "metadata": {
        "id": "z1JUqXSwBsll"
      },
      "source": [
        ""
      ],
      "execution_count": null,
      "outputs": []
    }
  ]
}