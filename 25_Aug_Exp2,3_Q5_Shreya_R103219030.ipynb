{
  "nbformat": 4,
  "nbformat_minor": 0,
  "metadata": {
    "colab": {
      "name": "25_Aug_Exp2,3_Q5_Shreya_R103219030.ipynb",
      "provenance": [],
      "collapsed_sections": [],
      "authorship_tag": "ABX9TyOtyCu5G1sFceBFALIdguNB",
      "include_colab_link": true
    },
    "kernelspec": {
      "name": "python3",
      "display_name": "Python 3"
    },
    "language_info": {
      "name": "python"
    }
  },
  "cells": [
    {
      "cell_type": "markdown",
      "metadata": {
        "id": "view-in-github",
        "colab_type": "text"
      },
      "source": [
        "<a href=\"https://colab.research.google.com/github/shreya-14-03/linear_programming_lab/blob/main/25_Aug_Exp2%2C3_Q5_Shreya_R103219030.ipynb\" target=\"_parent\"><img src=\"https://colab.research.google.com/assets/colab-badge.svg\" alt=\"Open In Colab\"/></a>"
      ]
    },
    {
      "cell_type": "markdown",
      "metadata": {
        "id": "8ar_wJ28Tq3q"
      },
      "source": [
        "Minimize Z = 20X¬1 + 10X2\n",
        "Subject to,\n",
        " X1 + 2X2 ≤40\n",
        "3X1 + 1X2 ≥30\n",
        "4X1 + 3X2 ≥60\n",
        "X1 ,X2 ≥0"
      ]
    },
    {
      "cell_type": "code",
      "metadata": {
        "id": "fHyeu-0YTtuV"
      },
      "source": [
        "%%capture\n",
        "!pip install pulp "
      ],
      "execution_count": null,
      "outputs": []
    },
    {
      "cell_type": "code",
      "metadata": {
        "id": "dIqo-etrT_16"
      },
      "source": [
        "from pulp import *"
      ],
      "execution_count": null,
      "outputs": []
    },
    {
      "cell_type": "code",
      "metadata": {
        "id": "v_6FDePVUCW2"
      },
      "source": [
        "my_lp_problem = LpProblem(\"MyLPProblem\", LpMinimize)"
      ],
      "execution_count": null,
      "outputs": []
    },
    {
      "cell_type": "code",
      "metadata": {
        "id": "T3pY8VzhUE_Q"
      },
      "source": [
        "x1 = LpVariable( 'x1', lowBound=0, cat='Continuous')\n",
        "x2 = LpVariable( 'x2', lowBound=0, cat='Continuous')"
      ],
      "execution_count": null,
      "outputs": []
    },
    {
      "cell_type": "code",
      "metadata": {
        "id": "FLAZH09bUH1F"
      },
      "source": [
        "# Objective function\n",
        "my_lp_problem += 20 * x1 + 10 * x2,\"Z\"\n",
        "# Constraints\n",
        "my_lp_problem += x1 + 2 * x2 <= 40\n",
        "my_lp_problem += 3 * x1 +  x2  >= 30\n",
        "my_lp_problem += 4 * x1 + 3 * x2  >=  60"
      ],
      "execution_count": null,
      "outputs": []
    },
    {
      "cell_type": "code",
      "metadata": {
        "colab": {
          "base_uri": "https://localhost:8080/"
        },
        "id": "LC15lFCMU3Tc",
        "outputId": "e6c19621-3773-4621-b999-0c7dbe3d08d5"
      },
      "source": [
        "my_lp_problem"
      ],
      "execution_count": null,
      "outputs": [
        {
          "output_type": "execute_result",
          "data": {
            "text/plain": [
              "MyLPProblem:\n",
              "MINIMIZE\n",
              "20*x1 + 10*x2 + 0\n",
              "SUBJECT TO\n",
              "_C1: x1 + 2 x2 <= 40\n",
              "\n",
              "_C2: 3 x1 + x2 >= 30\n",
              "\n",
              "_C3: 4 x1 + 3 x2 >= 60\n",
              "\n",
              "VARIABLES\n",
              "x1 Continuous\n",
              "x2 Continuous"
            ]
          },
          "metadata": {},
          "execution_count": 16
        }
      ]
    },
    {
      "cell_type": "code",
      "metadata": {
        "colab": {
          "base_uri": "https://localhost:8080/",
          "height": 35
        },
        "id": "alxLdHXMU7wr",
        "outputId": "1686a1bd-881c-4b65-d09b-475100b0a4f0"
      },
      "source": [
        "my_lp_problem.solve()\n",
        "LpStatus[my_lp_problem.status]"
      ],
      "execution_count": null,
      "outputs": [
        {
          "output_type": "execute_result",
          "data": {
            "application/vnd.google.colaboratory.intrinsic+json": {
              "type": "string"
            },
            "text/plain": [
              "'Optimal'"
            ]
          },
          "metadata": {},
          "execution_count": 17
        }
      ]
    },
    {
      "cell_type": "code",
      "metadata": {
        "colab": {
          "base_uri": "https://localhost:8080/"
        },
        "id": "gp63tNimVGNl",
        "outputId": "3e8b255a-7590-424e-a952-65f7df17d51a"
      },
      "source": [
        "for variable in my_lp_problem.variables():\n",
        "    print (\"{} = {}\".format(variable.name, variable.varValue))"
      ],
      "execution_count": null,
      "outputs": [
        {
          "output_type": "stream",
          "name": "stdout",
          "text": [
            "x1 = 6.0\n",
            "x2 = 12.0\n"
          ]
        }
      ]
    },
    {
      "cell_type": "code",
      "metadata": {
        "colab": {
          "base_uri": "https://localhost:8080/"
        },
        "id": "Yy_5KgXNVK4Y",
        "outputId": "d41c3881-1100-4fd7-d9af-f6fdbd232583"
      },
      "source": [
        "value(my_lp_problem.objective)"
      ],
      "execution_count": null,
      "outputs": [
        {
          "output_type": "execute_result",
          "data": {
            "text/plain": [
              "240.0"
            ]
          },
          "metadata": {},
          "execution_count": 19
        }
      ]
    },
    {
      "cell_type": "code",
      "metadata": {
        "id": "ZfJ_CgItVQOd"
      },
      "source": [
        ""
      ],
      "execution_count": null,
      "outputs": []
    }
  ]
}