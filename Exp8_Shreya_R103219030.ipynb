{
  "nbformat": 4,
  "nbformat_minor": 0,
  "metadata": {
    "colab": {
      "name": "Exp8_Shreya_R103219030.ipynb",
      "provenance": [],
      "authorship_tag": "ABX9TyMsp5mHzRMpjNUw6MTpi1JX",
      "include_colab_link": true
    },
    "kernelspec": {
      "name": "python3",
      "display_name": "Python 3"
    },
    "language_info": {
      "name": "python"
    }
  },
  "cells": [
    {
      "cell_type": "markdown",
      "metadata": {
        "id": "view-in-github",
        "colab_type": "text"
      },
      "source": [
        "<a href=\"https://colab.research.google.com/github/shreya-14-03/linear_programming_lab/blob/main/Exp8_Shreya_R103219030.ipynb\" target=\"_parent\"><img src=\"https://colab.research.google.com/assets/colab-badge.svg\" alt=\"Open In Colab\"/></a>"
      ]
    },
    {
      "cell_type": "markdown",
      "source": [
        "Q1:Minimize Z = X¬1 + X2\n",
        "Subject to,\n",
        " X1 + X2 ≤ 1\n",
        "-3X1 + X2 ≥3\n",
        "                X1 ,X2 ≥0\n"
      ],
      "metadata": {
        "id": "Q1tI_f_nkFoB"
      }
    },
    {
      "cell_type": "code",
      "execution_count": 1,
      "metadata": {
        "id": "F8900bIEj2ec"
      },
      "outputs": [],
      "source": [
        "from scipy.optimize import linprog"
      ]
    },
    {
      "cell_type": "code",
      "source": [
        "obj1 = [1, 1]\n",
        "lhs_ineq1 = [[ 1,  1],[3,  -1]]\n",
        "rhs_ineq1 = [1,-3]\n",
        "bnd1 = [(0, float(\"inf\")), (0, float(\"inf\"))]\n",
        "opt1 = linprog(c=obj1, A_ub=lhs_ineq1, b_ub=rhs_ineq1, bounds=bnd1, method=\"revised simplex\")\n",
        "opt1"
      ],
      "metadata": {
        "colab": {
          "base_uri": "https://localhost:8080/"
        },
        "id": "zaU8w4y3kH1F",
        "outputId": "c7fd6bbc-db7a-465a-95fb-1df9a1fc8b71"
      },
      "execution_count": 2,
      "outputs": [
        {
          "output_type": "execute_result",
          "data": {
            "text/plain": [
              "     con: array([], dtype=float64)\n",
              "     fun: 1.0\n",
              " message: 'The problem appears infeasible, as the phase one auxiliary problem terminated successfully with a residual of 2.0e+00, greater than the tolerance 1e-12 required for the solution to be considered feasible. Consider increasing the tolerance to be greater than 2.0e+00. If this tolerance is unnaceptably large, the problem is likely infeasible.'\n",
              "     nit: 1\n",
              "   slack: array([ 0., -2.])\n",
              "  status: 2\n",
              " success: False\n",
              "       x: array([0., 1.])"
            ]
          },
          "metadata": {},
          "execution_count": 2
        }
      ]
    },
    {
      "cell_type": "markdown",
      "source": [
        "Q2:Maximize Z = 2X¬1 + 4X2\n",
        "Subject to,\n",
        " X1 + 2X2 ≤ 5\n",
        "X1 + X2 ≤ 4\n",
        "   X1 ,X2 ≥0"
      ],
      "metadata": {
        "id": "KbbKk-WBkVT_"
      }
    },
    {
      "cell_type": "code",
      "source": [
        "obj2 = [-2, -4]\n",
        "lhs_ineq2 = [[ 1,2],[1,1]]\n",
        "rhs_ineq2 = [5,4]\n",
        "bnd2 = [(0, float(\"inf\")), (0, float(\"inf\"))]\n",
        "opt2 = linprog(c=obj2, A_ub=lhs_ineq2, b_ub=rhs_ineq2, bounds=bnd2, method=\"revised simplex\")\n",
        "opt2"
      ],
      "metadata": {
        "colab": {
          "base_uri": "https://localhost:8080/"
        },
        "id": "6b8wSfpWkR0i",
        "outputId": "10b98749-d41c-4c24-c27c-80c423c687eb"
      },
      "execution_count": 3,
      "outputs": [
        {
          "output_type": "execute_result",
          "data": {
            "text/plain": [
              "     con: array([], dtype=float64)\n",
              "     fun: -10.0\n",
              " message: 'Optimization terminated successfully.'\n",
              "     nit: 1\n",
              "   slack: array([0. , 1.5])\n",
              "  status: 0\n",
              " success: True\n",
              "       x: array([0. , 2.5])"
            ]
          },
          "metadata": {},
          "execution_count": 3
        }
      ]
    },
    {
      "cell_type": "markdown",
      "source": [
        "Q3:Maximize Z = 2X¬1 + X2\n",
        "Subject to,\n",
        " X1 - X2 ≤ 10\n",
        " 2X1 ≤ 40\n",
        "   X1 ,X2 ≥0"
      ],
      "metadata": {
        "id": "nvifLwVvkae3"
      }
    },
    {
      "cell_type": "code",
      "source": [
        "obj3 = [-2,-1]\n",
        "lhs_ineq3 = [[ 1,-1],[2,0]]\n",
        "rhs_ineq3 = [10,40]\n",
        "bnd3 = [(0, float(\"inf\")), (0, float(\"inf\"))]\n",
        "opt3 = linprog(c=obj3, A_ub=lhs_ineq3, b_ub=rhs_ineq3, bounds=bnd3, method=\"revised simplex\")\n",
        "opt3"
      ],
      "metadata": {
        "colab": {
          "base_uri": "https://localhost:8080/"
        },
        "id": "SrfJybcFkY-N",
        "outputId": "f1239f6d-725e-41d9-a5d7-44f26137a666"
      },
      "execution_count": 5,
      "outputs": [
        {
          "output_type": "execute_result",
          "data": {
            "text/plain": [
              "     con: array([], dtype=float64)\n",
              "     fun: -50.0\n",
              " message: 'The problem is unbounded, as the simplex algorithm found a basic feasible solution from which there is a direction with negative reduced cost in which all decision variables increase.'\n",
              "     nit: 2\n",
              "   slack: array([0., 0.])\n",
              "  status: 3\n",
              " success: False\n",
              "       x: array([20., 10.])"
            ]
          },
          "metadata": {},
          "execution_count": 5
        }
      ]
    },
    {
      "cell_type": "markdown",
      "source": [
        "Q4:Minimize Z = 3X¬1 + 2X2 Subject to, 2X1 + X2 ≤ 2 3X1 + 4X2 ≥12 X1 ,X2 ≥0"
      ],
      "metadata": {
        "id": "V1aegHb0klOu"
      }
    },
    {
      "cell_type": "code",
      "source": [
        "obj3 = [3,2]\n",
        "lhs_ineq3 = [[ 2,1],[-3,-4]]\n",
        "rhs_ineq3 = [2,-12]\n",
        "bnd3 = [(0, float(\"inf\")), (0, float(\"inf\"))]\n",
        "opt3 = linprog(c=obj3, A_ub=lhs_ineq3, b_ub=rhs_ineq3, bounds=bnd3, method=\"revised simplex\")\n",
        "opt3"
      ],
      "metadata": {
        "colab": {
          "base_uri": "https://localhost:8080/"
        },
        "id": "1vzHeOTOkp1j",
        "outputId": "a6cadec2-1dbd-41d2-8907-84f84f0fe5fd"
      },
      "execution_count": 6,
      "outputs": [
        {
          "output_type": "execute_result",
          "data": {
            "text/plain": [
              "     con: array([], dtype=float64)\n",
              "     fun: 4.0\n",
              " message: 'The problem appears infeasible, as the phase one auxiliary problem terminated successfully with a residual of 4.0e+00, greater than the tolerance 1e-12 required for the solution to be considered feasible. Consider increasing the tolerance to be greater than 4.0e+00. If this tolerance is unnaceptably large, the problem is likely infeasible.'\n",
              "     nit: 1\n",
              "   slack: array([ 0., -4.])\n",
              "  status: 2\n",
              " success: False\n",
              "       x: array([0., 2.])"
            ]
          },
          "metadata": {},
          "execution_count": 6
        }
      ]
    },
    {
      "cell_type": "code",
      "source": [
        ""
      ],
      "metadata": {
        "id": "9nE4r7QvlDRv"
      },
      "execution_count": null,
      "outputs": []
    }
  ]
}