{
  "nbformat": 4,
  "nbformat_minor": 0,
  "metadata": {
    "colab": {
      "name": "25_Aug_Exp2,3_Q4_Shreya_R103219030.ipynb",
      "provenance": [],
      "collapsed_sections": [],
      "authorship_tag": "ABX9TyNF8/LSXUfMY7ob/1O2ONS4",
      "include_colab_link": true
    },
    "kernelspec": {
      "name": "python3",
      "display_name": "Python 3"
    },
    "language_info": {
      "name": "python"
    }
  },
  "cells": [
    {
      "cell_type": "markdown",
      "metadata": {
        "id": "view-in-github",
        "colab_type": "text"
      },
      "source": [
        "<a href=\"https://colab.research.google.com/github/shreya-14-03/linear_programming_lab/blob/main/25_Aug_Exp2%2C3_Q4_Shreya_R103219030.ipynb\" target=\"_parent\"><img src=\"https://colab.research.google.com/assets/colab-badge.svg\" alt=\"Open In Colab\"/></a>"
      ]
    },
    {
      "cell_type": "markdown",
      "metadata": {
        "id": "cc9w_54vvbrX"
      },
      "source": [
        "4)\tAn electric appliance company produces two products: refrigerators and ranges. Production takes place in two separate departments I and II. Refrigerators are produced in department I and ranges in department II. The company's two products are sold on a weekly basis. the weekly production cannot exceed 25 refrigerators and 35 ranges. the company regularly employs a total of 60 workers in the two departments. A refrigerator requires 2 man-weeks labour while a range requires 1 man-week labour. A refrigerator contributes a profit of Rs. 60 and range contributes a profit of Rs. 40. how many units of refrigerators and ranges should the company produce to realize the maximum profit?"
      ]
    },
    {
      "cell_type": "code",
      "metadata": {
        "id": "3VFxg9_zvcYs"
      },
      "source": [
        "%%capture\n",
        "!pip install pulp "
      ],
      "execution_count": null,
      "outputs": []
    },
    {
      "cell_type": "code",
      "metadata": {
        "id": "HQ09QFj9vnGp"
      },
      "source": [
        "from pulp import *"
      ],
      "execution_count": null,
      "outputs": []
    },
    {
      "cell_type": "code",
      "metadata": {
        "id": "9Pj4Ye9Ovr4M"
      },
      "source": [
        "my_lp_problem = LpProblem(\"MyLPProblem\", LpMaximize)"
      ],
      "execution_count": null,
      "outputs": []
    },
    {
      "cell_type": "markdown",
      "metadata": {
        "id": "Hw-Tf26S52io"
      },
      "source": [
        "x1:units of refrigerators\n",
        "x2:units of ranges"
      ]
    },
    {
      "cell_type": "code",
      "metadata": {
        "id": "yBfe8-u6v8iR"
      },
      "source": [
        "x1 = LpVariable( 'x1', lowBound=0, cat='Continuous')\n",
        "x2 = LpVariable( 'x2', lowBound=0, cat='Continuous')"
      ],
      "execution_count": null,
      "outputs": []
    },
    {
      "cell_type": "code",
      "metadata": {
        "id": "IKhJcaq7v_Xd"
      },
      "source": [
        "# Objective function\n",
        "my_lp_problem += 60 * x1 + 40 * x2,\"Z\"\n",
        "# Constraints\n",
        "my_lp_problem += 2 * x1 + x2 <= 60\n",
        "my_lp_problem += x1 <=25\n",
        "my_lp_problem += x2 <= 35"
      ],
      "execution_count": null,
      "outputs": []
    },
    {
      "cell_type": "code",
      "metadata": {
        "colab": {
          "base_uri": "https://localhost:8080/"
        },
        "id": "tt5GWdEywhBg",
        "outputId": "2e1a39dc-ba32-4c8b-903c-5d37615d41b9"
      },
      "source": [
        "my_lp_problem"
      ],
      "execution_count": null,
      "outputs": [
        {
          "output_type": "execute_result",
          "data": {
            "text/plain": [
              "MyLPProblem:\n",
              "MAXIMIZE\n",
              "60*x1 + 40*x2 + 0\n",
              "SUBJECT TO\n",
              "_C1: 2 x1 + x2 <= 60\n",
              "\n",
              "_C2: x1 <= 25\n",
              "\n",
              "_C3: x2 <= 35\n",
              "\n",
              "VARIABLES\n",
              "x1 Continuous\n",
              "x2 Continuous"
            ]
          },
          "metadata": {},
          "execution_count": 6
        }
      ]
    },
    {
      "cell_type": "code",
      "metadata": {
        "colab": {
          "base_uri": "https://localhost:8080/",
          "height": 35
        },
        "id": "C5O7B0YhwnsQ",
        "outputId": "8e8c05c3-b8fa-4c82-e6d9-d2e80e25d464"
      },
      "source": [
        "my_lp_problem.solve()\n",
        "LpStatus[my_lp_problem.status]"
      ],
      "execution_count": null,
      "outputs": [
        {
          "output_type": "execute_result",
          "data": {
            "application/vnd.google.colaboratory.intrinsic+json": {
              "type": "string"
            },
            "text/plain": [
              "'Optimal'"
            ]
          },
          "metadata": {},
          "execution_count": 7
        }
      ]
    },
    {
      "cell_type": "code",
      "metadata": {
        "colab": {
          "base_uri": "https://localhost:8080/"
        },
        "id": "gVSh_CRPwrwS",
        "outputId": "0de2251a-a790-42df-b4c3-600f09a27471"
      },
      "source": [
        "for variable in my_lp_problem.variables():\n",
        "    print (\"{} = {}\".format(variable.name, variable.varValue))"
      ],
      "execution_count": null,
      "outputs": [
        {
          "output_type": "stream",
          "name": "stdout",
          "text": [
            "x1 = 12.5\n",
            "x2 = 35.0\n"
          ]
        }
      ]
    },
    {
      "cell_type": "code",
      "metadata": {
        "colab": {
          "base_uri": "https://localhost:8080/"
        },
        "id": "nk553skZwu1R",
        "outputId": "943bbea6-b140-420a-b4fc-d3f20ccb890f"
      },
      "source": [
        "value(my_lp_problem.objective)"
      ],
      "execution_count": null,
      "outputs": [
        {
          "output_type": "execute_result",
          "data": {
            "text/plain": [
              "2150.0"
            ]
          },
          "metadata": {},
          "execution_count": 9
        }
      ]
    },
    {
      "cell_type": "code",
      "metadata": {
        "id": "TTA-NcdWwxkg"
      },
      "source": [
        ""
      ],
      "execution_count": null,
      "outputs": []
    }
  ]
}