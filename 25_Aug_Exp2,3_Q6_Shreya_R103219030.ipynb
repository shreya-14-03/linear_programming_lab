{
  "nbformat": 4,
  "nbformat_minor": 0,
  "metadata": {
    "colab": {
      "name": "25_Aug_Exp2,3_Q6_Shreya_R103219030.ipynb",
      "provenance": [],
      "collapsed_sections": [],
      "authorship_tag": "ABX9TyNVoZk9qXauXkx08r7AwMiV",
      "include_colab_link": true
    },
    "kernelspec": {
      "name": "python3",
      "display_name": "Python 3"
    },
    "language_info": {
      "name": "python"
    }
  },
  "cells": [
    {
      "cell_type": "markdown",
      "metadata": {
        "id": "view-in-github",
        "colab_type": "text"
      },
      "source": [
        "<a href=\"https://colab.research.google.com/github/shreya-14-03/linear_programming_lab/blob/main/25_Aug_Exp2%2C3_Q6_Shreya_R103219030.ipynb\" target=\"_parent\"><img src=\"https://colab.research.google.com/assets/colab-badge.svg\" alt=\"Open In Colab\"/></a>"
      ]
    },
    {
      "cell_type": "markdown",
      "metadata": {
        "id": "ZxwpLHQTVga_"
      },
      "source": [
        "Maximize Z = X¬1 +  X2+3X3\n",
        "Subject to,\n",
        " 3X1 + 2X2 +X3 ≤300\n",
        "2X1 + X2 +2X3  ≤200\n",
        "X1 ,X2 , X3 ≥0\n"
      ]
    },
    {
      "cell_type": "code",
      "metadata": {
        "id": "7s9hJn8DVcww"
      },
      "source": [
        "%%capture\n",
        "!pip install pulp "
      ],
      "execution_count": null,
      "outputs": []
    },
    {
      "cell_type": "code",
      "metadata": {
        "id": "PJsYnl5lVhti"
      },
      "source": [
        "from pulp import *"
      ],
      "execution_count": null,
      "outputs": []
    },
    {
      "cell_type": "code",
      "metadata": {
        "id": "dtRnT3ctV0eF"
      },
      "source": [
        "my_lp_problem = LpProblem(\"MyLPProblem\", LpMaximize)"
      ],
      "execution_count": null,
      "outputs": []
    },
    {
      "cell_type": "code",
      "metadata": {
        "id": "ZtCjevMiV3bR"
      },
      "source": [
        "x1 = LpVariable( 'x1', lowBound=0, cat='Continuous')\n",
        "x2 = LpVariable( 'x2', lowBound=0, cat='Continuous')\n",
        "x3 = LpVariable( 'x3', lowBound=0, cat='Continuous')"
      ],
      "execution_count": null,
      "outputs": []
    },
    {
      "cell_type": "code",
      "metadata": {
        "id": "mUDliDLkWCZ0"
      },
      "source": [
        "# Objective function\n",
        "my_lp_problem +=  x1 + x2 + 3 * x3,\"Z\"\n",
        "# Constraints\n",
        "my_lp_problem += 3 * x1 + 2 * x2 + x3 <= 300\n",
        "my_lp_problem += 2 * x1 + x2 + 2 * x3 <= 200"
      ],
      "execution_count": null,
      "outputs": []
    },
    {
      "cell_type": "code",
      "metadata": {
        "colab": {
          "base_uri": "https://localhost:8080/"
        },
        "id": "p5s4RaqtWrId",
        "outputId": "7bc05817-48eb-463d-ee85-e1435d45fc6d"
      },
      "source": [
        "my_lp_problem"
      ],
      "execution_count": null,
      "outputs": [
        {
          "output_type": "execute_result",
          "data": {
            "text/plain": [
              "MyLPProblem:\n",
              "MAXIMIZE\n",
              "1*x1 + 1*x2 + 3*x3 + 0\n",
              "SUBJECT TO\n",
              "_C1: 3 x1 + 2 x2 + x3 <= 300\n",
              "\n",
              "_C2: 2 x1 + x2 + 2 x3 <= 200\n",
              "\n",
              "VARIABLES\n",
              "x1 Continuous\n",
              "x2 Continuous\n",
              "x3 Continuous"
            ]
          },
          "metadata": {},
          "execution_count": 6
        }
      ]
    },
    {
      "cell_type": "code",
      "metadata": {
        "colab": {
          "base_uri": "https://localhost:8080/",
          "height": 35
        },
        "id": "JVAiAsegWwiR",
        "outputId": "2df7808c-7706-46fc-929c-6677a8ba32ac"
      },
      "source": [
        "my_lp_problem.solve()\n",
        "LpStatus[my_lp_problem.status]"
      ],
      "execution_count": null,
      "outputs": [
        {
          "output_type": "execute_result",
          "data": {
            "application/vnd.google.colaboratory.intrinsic+json": {
              "type": "string"
            },
            "text/plain": [
              "'Optimal'"
            ]
          },
          "metadata": {},
          "execution_count": 7
        }
      ]
    },
    {
      "cell_type": "code",
      "metadata": {
        "colab": {
          "base_uri": "https://localhost:8080/"
        },
        "id": "PJnJf4-GW0sj",
        "outputId": "f1be71dc-ec34-440b-f086-7fdf982632e3"
      },
      "source": [
        "for variable in my_lp_problem.variables():\n",
        "    print (\"{} = {}\".format(variable.name, variable.varValue))"
      ],
      "execution_count": null,
      "outputs": [
        {
          "output_type": "stream",
          "name": "stdout",
          "text": [
            "x1 = 0.0\n",
            "x2 = 0.0\n",
            "x3 = 100.0\n"
          ]
        }
      ]
    },
    {
      "cell_type": "code",
      "metadata": {
        "colab": {
          "base_uri": "https://localhost:8080/"
        },
        "id": "1CXhlId7W4Go",
        "outputId": "9899e872-c1f3-45f5-8b9f-891898eec0f4"
      },
      "source": [
        "value(my_lp_problem.objective)"
      ],
      "execution_count": null,
      "outputs": [
        {
          "output_type": "execute_result",
          "data": {
            "text/plain": [
              "300.0"
            ]
          },
          "metadata": {},
          "execution_count": 9
        }
      ]
    },
    {
      "cell_type": "code",
      "metadata": {
        "id": "BuZz1bOaW77F"
      },
      "source": [
        ""
      ],
      "execution_count": null,
      "outputs": []
    }
  ]
}